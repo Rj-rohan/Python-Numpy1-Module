{
 "cells": [
  {
   "cell_type": "markdown",
   "id": "51dc2bee-21a6-4383-abc1-bdf53ec3ad99",
   "metadata": {},
   "source": [
    "# Special type of array"
   ]
  },
  {
   "cell_type": "code",
   "execution_count": 2,
   "id": "151b54a2-1da1-4b20-8a03-5cc9ceae20ab",
   "metadata": {},
   "outputs": [
    {
     "name": "stdout",
     "output_type": "stream",
     "text": [
      "[0. 0. 0. 0.]\n",
      "\n",
      "[[0. 0. 0. 0.]\n",
      " [0. 0. 0. 0.]\n",
      " [0. 0. 0. 0.]]\n"
     ]
    }
   ],
   "source": [
    "# Arrays with '0's\n",
    "\n",
    "import numpy as np   # importing module\n",
    "ar_zero = np.zeros(4)    # Passing value is the number of elements np.zeros(number of elements) in 1D array\n",
    "ar1_zero = np.zeros((3,4))  # Passing value 3 is row and 4 is column np.zeros(row,column) in 2-D array\n",
    "print(ar_zero)\n",
    "print( )\n",
    "print(ar1_zero)"
   ]
  },
  {
   "cell_type": "code",
   "execution_count": 9,
   "id": "50409cf8-59df-410a-b2cb-9c502dc68c5a",
   "metadata": {},
   "outputs": [
    {
     "name": "stdout",
     "output_type": "stream",
     "text": [
      "[1. 1. 1. 1.]\n",
      "\n",
      "[[1. 1. 1. 1.]\n",
      " [1. 1. 1. 1.]\n",
      " [1. 1. 1. 1.]]\n"
     ]
    }
   ],
   "source": [
    "# Arrays filled with 1's\n",
    "\n",
    "ar2_one = np.ones(4)    # Passing value is the number of elements np.ones(number of elements) in 1D array\n",
    "ar3_one = np.ones((3,4))  # Passing value 3 is row and 4 is column np.ones(row,column) in 2-D array\n",
    "print(ar2_one)\n",
    "print( )\n",
    "print(ar3_one)\n"
   ]
  },
  {
   "cell_type": "code",
   "execution_count": 4,
   "id": "78b5d3ed-d042-4483-bf25-fe7a279d197b",
   "metadata": {},
   "outputs": [
    {
     "name": "stdout",
     "output_type": "stream",
     "text": [
      "[1. 1. 1. 1.]\n",
      "\n",
      "[[1. 1. 1. 1.]\n",
      " [1. 1. 1. 1.]\n",
      " [1. 1. 1. 1.]]\n"
     ]
    }
   ],
   "source": [
    "# To create an empty array\n",
    "\n",
    "ar_emp = np.empty(4)    # Passing value is the number of elements np.empty(number of elements) in 1D array\n",
    "ar1_emp = np.empty((3,4))  # Passing value 3 is row and 4 is column np.empty(row,column) in 2-D array\n",
    "print(ar_emp)\n",
    "print( )\n",
    "print(ar1_emp)"
   ]
  },
  {
   "cell_type": "code",
   "execution_count": 8,
   "id": "77f43a64-dd5c-4694-8dc1-90e204fb1143",
   "metadata": {},
   "outputs": [
    {
     "name": "stdout",
     "output_type": "stream",
     "text": [
      "[0 1 2 3]\n",
      "\n",
      "[4 5 6 7 8 9]\n"
     ]
    }
   ],
   "source": [
    "# An array with range of elements\n",
    "\n",
    "ar_element = np.arange(4)    # Passing value is that np.arange(till upto from 0 and given num is not include) in 1D array\n",
    "ar1_element = np.arange(4,10)  # passing value is np.arange(start,end not include)\n",
    "print(ar_element)\n",
    "print( )\n",
    "print(ar1_element)\n"
   ]
  },
  {
   "cell_type": "code",
   "execution_count": 14,
   "id": "fb480f81-5e8e-4884-af58-3e7b15ce11c7",
   "metadata": {},
   "outputs": [
    {
     "name": "stdout",
     "output_type": "stream",
     "text": [
      "[[1. 0. 0.]\n",
      " [0. 1. 0.]\n",
      " [0. 0. 1.]]\n",
      "\n",
      "[[1. 0. 0. 0.]\n",
      " [0. 1. 0. 0.]\n",
      " [0. 0. 1. 0.]]\n"
     ]
    }
   ],
   "source": [
    "# Array diagonal element is filled with 1's like identity matrix\n",
    "\n",
    "ar_dia = np.eye(3)    # Passing value is that np.eye(by default make array )\n",
    "ar1_dia = np.eye(3,4)  # passing value is np.eye(row,column)\n",
    "print(ar_dia)\n",
    "print( )\n",
    "print(ar1_dia)\n"
   ]
  },
  {
   "cell_type": "code",
   "execution_count": 17,
   "id": "91d49d43-050e-4cd4-b519-a29344546f33",
   "metadata": {},
   "outputs": [
    {
     "name": "stdout",
     "output_type": "stream",
     "text": [
      "[ 5. 10. 15. 20.]\n"
     ]
    }
   ],
   "source": [
    "# Create an array with values that are spaced linearly in a specified interval\n",
    "\n",
    "myarr = np.linspace(5,20,num=4)  # passing value is np.linspace(min,max,number of values)\n",
    "print(myarr)"
   ]
  },
  {
   "cell_type": "code",
   "execution_count": null,
   "id": "dfa04c74-dd79-499a-8e3c-8d4c5a185da1",
   "metadata": {},
   "outputs": [],
   "source": []
  }
 ],
 "metadata": {
  "kernelspec": {
   "display_name": "Python 3 (ipykernel)",
   "language": "python",
   "name": "python3"
  },
  "language_info": {
   "codemirror_mode": {
    "name": "ipython",
    "version": 3
   },
   "file_extension": ".py",
   "mimetype": "text/x-python",
   "name": "python",
   "nbconvert_exporter": "python",
   "pygments_lexer": "ipython3",
   "version": "3.12.2"
  }
 },
 "nbformat": 4,
 "nbformat_minor": 5
}
