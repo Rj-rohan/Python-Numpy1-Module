{
 "cells": [
  {
   "cell_type": "markdown",
   "id": "26589442-3ed4-4171-9504-c93173876153",
   "metadata": {},
   "source": [
    "# Dimension of array in Numpy"
   ]
  },
  {
   "cell_type": "code",
   "execution_count": 3,
   "id": "85fd0619-7c4b-424e-a4c4-8c8c9681cb50",
   "metadata": {},
   "outputs": [
    {
     "name": "stdout",
     "output_type": "stream",
     "text": [
      "[10 20 30 40 50]\n",
      "1\n"
     ]
    }
   ],
   "source": [
    "# 1 ) To declare 1-D array\n",
    "\n",
    "import numpy as np\n",
    "myarray = np.array([10,20,30,40,50])   # 1-D array\n",
    "print(myarray)\n",
    "print(myarray.ndim)  # Gives dimension of array"
   ]
  },
  {
   "cell_type": "code",
   "execution_count": 4,
   "id": "cb5eebf7-1d02-4952-a3a7-5bf7355df226",
   "metadata": {},
   "outputs": [
    {
     "name": "stdout",
     "output_type": "stream",
     "text": [
      "[[100 200 300 400 500]]\n",
      "2\n"
     ]
    }
   ],
   "source": [
    "# 2) To declare 2-D array\n",
    "\n",
    "myarr1 = np.array([[100,200,300,400,500]])  # 2-D array\n",
    "print(myarr1)\n",
    "print(myarr1.ndim)   # Gives dimension of array"
   ]
  },
  {
   "cell_type": "code",
   "execution_count": 7,
   "id": "758b1cc3-42ed-4e85-81e3-a38e96868fd3",
   "metadata": {},
   "outputs": [
    {
     "name": "stdout",
     "output_type": "stream",
     "text": [
      "[[[1000 2000 3000 4000 5000]]]\n",
      "3\n"
     ]
    }
   ],
   "source": [
    "# 3) To declare 3-D array\n",
    "\n",
    "myarr2 = np.array([[[1000,2000,3000,4000,5000]]])\n",
    "print(myarr2)\n",
    "print(myarr2.ndim)  # Gives dimension of array"
   ]
  },
  {
   "cell_type": "code",
   "execution_count": null,
   "id": "eee93ee3-98a3-4861-9a37-5c447279d11a",
   "metadata": {},
   "outputs": [],
   "source": []
  }
 ],
 "metadata": {
  "kernelspec": {
   "display_name": "Python 3 (ipykernel)",
   "language": "python",
   "name": "python3"
  },
  "language_info": {
   "codemirror_mode": {
    "name": "ipython",
    "version": 3
   },
   "file_extension": ".py",
   "mimetype": "text/x-python",
   "name": "python",
   "nbconvert_exporter": "python",
   "pygments_lexer": "ipython3",
   "version": "3.12.2"
  }
 },
 "nbformat": 4,
 "nbformat_minor": 5
}
