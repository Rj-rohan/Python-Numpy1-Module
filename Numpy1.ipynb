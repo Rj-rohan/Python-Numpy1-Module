{
 "cells": [
  {
   "cell_type": "markdown",
   "id": "0c40f38d-bdd7-45df-82f9-34b753c3da2f",
   "metadata": {},
   "source": [
    "# Numpy module "
   ]
  },
  {
   "cell_type": "code",
   "execution_count": 9,
   "id": "1b1d3a1f-fa9f-45c2-85da-61699b32f08e",
   "metadata": {
    "scrolled": true
   },
   "outputs": [
    {
     "name": "stdout",
     "output_type": "stream",
     "text": [
      "[1 2 3 4]\n",
      "<class 'numpy.ndarray'>\n",
      "1\n"
     ]
    }
   ],
   "source": [
    "# 1) Standard Way\n",
    "\n",
    "import numpy   # importing modules\n",
    "y=[1,2,3,4]\n",
    "x=numpy.array(y)\n",
    "print(x)\n",
    "print(type(x))  # printing type of array\n",
    "print(x.ndim)   # To find dimension"
   ]
  },
  {
   "cell_type": "code",
   "execution_count": 13,
   "id": "040698e7-8383-4b9d-aada-20ee2df64b88",
   "metadata": {},
   "outputs": [
    {
     "name": "stdout",
     "output_type": "stream",
     "text": [
      "[1 2 3 4]\n",
      "<class 'numpy.ndarray'>\n",
      "1\n"
     ]
    }
   ],
   "source": [
    "# 2) Using Alias\n",
    "\n",
    "import numpy as np\n",
    "y=[1,2,3,4]\n",
    "x=np.array(y)\n",
    "print(x)\n",
    "print(type(x))\n",
    "print(x.ndim)"
   ]
  },
  {
   "cell_type": "code",
   "execution_count": 12,
   "id": "76828eb4-bd3b-4bb3-8730-e52e031af029",
   "metadata": {},
   "outputs": [
    {
     "name": "stdout",
     "output_type": "stream",
     "text": [
      "[1 2 3 4]\n",
      "<class 'numpy.ndarray'>\n",
      "1\n"
     ]
    }
   ],
   "source": [
    "# 3) Along with numpy\n",
    "\n",
    "from numpy import array\n",
    "y=[1,2,3,4]\n",
    "x=array(y)\n",
    "print(x)\n",
    "print(type(x))\n",
    "print(x.ndim)\n"
   ]
  },
  {
   "cell_type": "code",
   "execution_count": null,
   "id": "c080180a-93f1-4b65-977d-fcab3fd0f3fd",
   "metadata": {},
   "outputs": [],
   "source": []
  }
 ],
 "metadata": {
  "kernelspec": {
   "display_name": "Python 3 (ipykernel)",
   "language": "python",
   "name": "python3"
  },
  "language_info": {
   "codemirror_mode": {
    "name": "ipython",
    "version": 3
   },
   "file_extension": ".py",
   "mimetype": "text/x-python",
   "name": "python",
   "nbconvert_exporter": "python",
   "pygments_lexer": "ipython3",
   "version": "3.12.2"
  }
 },
 "nbformat": 4,
 "nbformat_minor": 5
}
